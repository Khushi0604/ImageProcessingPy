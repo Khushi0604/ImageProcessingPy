{
 "cells": [
  {
   "cell_type": "code",
   "execution_count": 1,
   "metadata": {},
   "outputs": [],
   "source": [
    "from bing_image_downloader import downloader"
   ]
  },
  {
   "cell_type": "code",
   "execution_count": 2,
   "metadata": {},
   "outputs": [
    {
     "name": "stdout",
     "output_type": "stream",
     "text": [
      "[%] Downloading Images to b:\\Projects\\ImageProcessingTesseract\\images\\simple text paragraph english writing\n",
      "\n",
      "\n",
      "[!!]Indexing page: 1\n",
      "\n",
      "[%] Indexed 10 Images on Page 1.\n",
      "\n",
      "===============================================\n",
      "\n",
      "[%] Downloading Image #1 from http://image.slidesharecdn.com/theeasywayofdevelopingstudentswritingskillsforfirstyearhighschool-100524040150-phpapp01/95/the-easy-way-of-developing-students-writing-skills-for-first-year-high-school-28-728.jpg?cb=1274674426\n",
      "[%] File Downloaded !\n",
      "\n",
      "[%] Downloading Image #2 from https://www.ldamontessorimaterials.com/uploads/7/9/5/7/7957254/s421485879740850678_p37_i3_w2324.jpeg\n",
      "[%] File Downloaded !\n",
      "\n",
      "[%] Downloading Image #3 from https://performdigi.com/wp-content/uploads/2019/10/Paragraph-writing-in-english-min.jpg\n",
      "[%] File Downloaded !\n",
      "\n",
      "[%] Downloading Image #4 from https://www.academic-englishuk.com/wp-content/uploads/2018/05/Paragraph-AEUK.png\n",
      "[%] File Downloaded !\n",
      "\n",
      "[%] Downloading Image #5 from https://teachmint.storage.googleapis.com/public/336620318/StudyMaterial/550a9896-15dd-46ea-a1fb-dbf87647f1c3.jpg\n",
      "[%] File Downloaded !\n",
      "\n",
      "[%] Downloading Image #6 from https://i1.wp.com/2.bp.blogspot.com/-WhIVoY-WwGQ/Vu6p9bfUgjI/AAAAAAAAKOE/Ys_7ELUTGuw_yk3NUffHKbLnGSMFefxzg/s1600/Slide21.jpg?ssl=1\n",
      "[%] File Downloaded !\n",
      "\n",
      "[%] Downloading Image #7 from https://academic-englishuk.com/wp-content/uploads/2020/03/A-basic-paragraph-on-CSR-by-AEUK.png\n",
      "[%] File Downloaded !\n",
      "\n",
      "[%] Downloading Image #8 from https://image.slidesharecdn.com/burgerparagraph-1227284356675911-9/95/writing-the-hamburger-paragraph-3-638.jpg?cb=1422651930\n",
      "[%] File Downloaded !\n",
      "\n",
      "[%] Downloading Image #9 from https://i.pinimg.com/736x/09/9f/2d/099f2dd39338b7d4e763c76e9f3c220b.jpg\n",
      "[%] File Downloaded !\n",
      "\n",
      "[%] Downloading Image #10 from https://moretime2teach.com/wp-content/uploads/2021/01/paragraph-writing-topic-sentences-1026x1536.png\n",
      "[%] File Downloaded !\n",
      "\n",
      "\n",
      "\n",
      "[%] Done. Downloaded 10 images.\n"
     ]
    }
   ],
   "source": [
    "downloader.download(\"simple text paragraph english writing\", limit = 10, output_dir= \"images\")"
   ]
  },
  {
   "cell_type": "code",
   "execution_count": null,
   "metadata": {},
   "outputs": [],
   "source": []
  }
 ],
 "metadata": {
  "kernelspec": {
   "display_name": "Python 3",
   "language": "python",
   "name": "python3"
  },
  "language_info": {
   "codemirror_mode": {
    "name": "ipython",
    "version": 3
   },
   "file_extension": ".py",
   "mimetype": "text/x-python",
   "name": "python",
   "nbconvert_exporter": "python",
   "pygments_lexer": "ipython3",
   "version": "3.10.6"
  }
 },
 "nbformat": 4,
 "nbformat_minor": 2
}
